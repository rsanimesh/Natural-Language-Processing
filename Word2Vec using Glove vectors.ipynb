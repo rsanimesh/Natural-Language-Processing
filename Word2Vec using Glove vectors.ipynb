{
 "cells": [
  {
   "cell_type": "markdown",
   "metadata": {},
   "source": [
    "## Word to Vectors using pre-trained Glove word vectors\n",
    "\n",
    "Glove stands for `Global Vectors for Word Representation`\n",
    "\n",
    "In this notebook we will explore\n",
    "\n",
    "1. Load GloVe vectors\n",
    "2. Word to Vector\n",
    "3. Sentence to Vector\n",
    "4. Cosine similarity between two vectors/ sentences"
   ]
  },
  {
   "cell_type": "markdown",
   "metadata": {},
   "source": [
    "### Setup\n",
    "\n",
    "Below are installation instruction of libraries requeried for this notebook\n",
    "\n",
    "> * !pip install -U scikit-learn\n",
    "* !pip install gensim\n",
    "* !pip install numpy\n",
    "\n",
    "Also you need to download pre-trained [Glove vectors](http://nlp.stanford.edu/data/glove.6B.zip).\n",
    "\n",
    "After download is complete unzip the folder. We are going to use file named `glove.6B.300d.txt` in this notebook."
   ]
  },
  {
   "cell_type": "code",
   "execution_count": 49,
   "metadata": {},
   "outputs": [],
   "source": [
    "# Required Imports\n",
    "import numpy as np\n",
    "from sklearn.metrics.pairwise import cosine_similarity\n",
    "from gensim.scripts.glove2word2vec import glove2word2vec\n",
    "from gensim.models.keyedvectors import KeyedVectors"
   ]
  },
  {
   "cell_type": "markdown",
   "metadata": {},
   "source": [
    "### Load GloVe vectors"
   ]
  },
  {
   "cell_type": "code",
   "execution_count": 48,
   "metadata": {},
   "outputs": [],
   "source": [
    "# File path for `glove.6B.300d.txt`\n",
    "glove_file_path = \"D:/Code/Resources/Models/glove.6B/glove.6B.300d.txt\""
   ]
  },
  {
   "cell_type": "code",
   "execution_count": 50,
   "metadata": {},
   "outputs": [
    {
     "data": {
      "text/plain": [
       "(400001, 300)"
      ]
     },
     "execution_count": 50,
     "metadata": {},
     "output_type": "execute_result"
    }
   ],
   "source": [
    "# converting GloVe txt file into gensim readable word2vec file format\n",
    "# this may  take arround couple of minutes depending upon your system configuration\n",
    "\n",
    "glove2word2vec(glove_input_file=glove_file_path, word2vec_output_file=\"gensim_glove_vectors.txt\")"
   ]
  },
  {
   "cell_type": "code",
   "execution_count": 51,
   "metadata": {},
   "outputs": [],
   "source": [
    "# loading the word2vec created in above step\n",
    "# this may  take arround couple of minutes depending upon your system configuration\n",
    "\n",
    "glove_model = KeyedVectors.load_word2vec_format(\"gensim_glove_vectors.txt\")"
   ]
  },
  {
   "cell_type": "markdown",
   "metadata": {},
   "source": [
    "### Word to Vector"
   ]
  },
  {
   "cell_type": "code",
   "execution_count": 70,
   "metadata": {},
   "outputs": [
    {
     "data": {
      "text/plain": [
       "array([ 0.0033901, -0.34614  ,  0.28144  ,  0.48382  ,  0.59469  ,\n",
       "        0.012965 ,  0.53982  ,  0.48233  ,  0.21463  , -1.0249   ,\n",
       "       -0.34788  , -0.79001  , -0.15084  ,  0.61374  ,  0.042811 ,\n",
       "        0.19323  ,  0.25462  ,  0.32528  ,  0.05698  ,  0.063253 ,\n",
       "       -0.49439  ,  0.47337  , -0.16761  ,  0.045594 ,  0.30451  ,\n",
       "       -0.35416  , -0.34583  , -0.20118  ,  0.25511  ,  0.091111 ,\n",
       "        0.014651 , -0.017541 , -0.23854  ,  0.48215  , -0.9145   ,\n",
       "       -0.36235  ,  0.34736  ,  0.028639 , -0.027065 , -0.036481 ,\n",
       "       -0.067391 , -0.23452  , -0.13772  ,  0.33951  ,  0.13415  ,\n",
       "       -0.1342   ,  0.47856  , -0.1842   ,  0.10705  , -0.45834  ,\n",
       "       -0.36085  , -0.22595  ,  0.32881  , -0.13643  ,  0.23128  ,\n",
       "        0.34269  ,  0.42344  ,  0.47057  ,  0.479    ,  0.074639 ,\n",
       "        0.3344   ,  0.10714  , -0.13289  ,  0.58734  ,  0.38616  ,\n",
       "       -0.52238  , -0.22028  , -0.072322 ,  0.32269  ,  0.44226  ,\n",
       "       -0.037382 ,  0.18324  ,  0.058082 ,  0.26938  ,  0.36202  ,\n",
       "        0.13983  ,  0.016815 , -0.34426  ,  0.4827   ,  0.2108   ,\n",
       "        0.75618  , -0.13092  , -0.025741 ,  0.43391  ,  0.33893  ,\n",
       "       -0.16438  ,  0.26817  ,  0.68774  ,  0.311    , -0.2509   ,\n",
       "        0.0027749, -0.39809  , -0.43399  ,  0.049531 , -0.42686  ,\n",
       "       -0.094679 ,  0.56925  ,  0.28742  , -0.015721 , -0.059162 ,\n",
       "        0.1912   , -0.59814  ,  0.65486  , -0.31363  ,  0.16881  ,\n",
       "        0.10862  ,  0.075316 ,  0.34093  , -0.14706  ,  0.8359   ,\n",
       "        0.39697  ,  0.52358  , -0.0096367, -0.14406  ,  0.37783  ,\n",
       "       -0.596    , -0.063192 , -0.85297  , -0.3098   , -1.0587   ,\n",
       "       -1.025    ,  0.4508   , -0.73324  , -1.2461   , -0.028488 ,\n",
       "        0.20299  ,  0.00259  ,  0.31995  ,  0.35744  ,  0.28533  ,\n",
       "        0.228    ,  0.50956  , -0.35942  ,  0.32683  ,  0.046264 ,\n",
       "       -0.86896  , -0.2707   , -0.15454  , -0.32152  ,  0.31121  ,\n",
       "        0.44134  ,  0.85189  ,  0.21065  , -0.13741  , -0.15359  ,\n",
       "       -0.059722 ,  0.027375 ,  0.23724  , -0.39197  , -0.66065  ,\n",
       "        0.23587  ,  0.032384 , -0.64043  ,  0.55004  ,  0.29597  ,\n",
       "        0.14989  ,  0.46079  , -0.26561  , -0.1607   , -0.36328  ,\n",
       "        1.0782   ,  0.31375  ,  0.1149   ,  0.20248  ,  0.032748 ,\n",
       "        0.41082  , -0.082536 ,  0.36606  ,  0.18771  ,  0.75415  ,\n",
       "        0.079648 ,  0.24181  , -0.60319  , -0.37296  , -0.047767 ,\n",
       "        0.45008  , -0.21135  ,  0.022251 , -0.084325 ,  0.18644  ,\n",
       "       -0.14682  ,  0.56571  , -0.30995  ,  0.17423  , -0.41122  ,\n",
       "       -0.84772  , -0.71114  ,  0.69895  , -0.13008  , -0.34195  ,\n",
       "       -0.30501  , -0.12646  ,  0.29957  , -0.43488  ,  0.31935  ,\n",
       "        0.2817   , -0.20631  , -0.48877  ,  0.34477  ,  0.03907  ,\n",
       "        1.6198   , -0.6352   , -0.0037675, -0.41271  ,  0.30704  ,\n",
       "       -0.50486  ,  0.036385 , -0.046386 , -0.12004  ,  0.010029 ,\n",
       "       -0.49116  ,  0.041486 ,  0.002979 , -0.57694  , -0.42088  ,\n",
       "       -0.063218 ,  0.0034244, -0.25093  , -0.39689  , -0.36984  ,\n",
       "        0.32689  ,  0.01385  ,  0.23634  , -0.055199 , -0.58453  ,\n",
       "        0.13211  ,  0.50943  ,  0.25198  , -0.0088309, -0.21273  ,\n",
       "       -0.48423  ,  0.5234   , -0.32832  , -0.013821 ,  0.15812  ,\n",
       "        0.46696  ,  0.036822 , -0.090878 ,  0.18854  ,  0.20794  ,\n",
       "       -0.42682  ,  0.59705  ,  0.53109  ,  0.19185  , -0.16392  ,\n",
       "        0.064956 , -0.36009  , -0.59882  , -0.28134  ,  0.1017   ,\n",
       "        0.02601  ,  0.44298  , -0.31922  , -0.22432  ,  0.7828   ,\n",
       "        0.041307 ,  0.1742   ,  0.27777  ,  0.43792  , -0.84324  ,\n",
       "        0.27012  , -0.21547  ,  0.52408  , -0.19426  , -0.21878  ,\n",
       "       -0.20713  ,  0.092994 , -0.15804  ,  0.28716  , -0.11911  ,\n",
       "       -0.20688  , -0.36482  ,  0.68548  , -0.10394  , -0.49974  ,\n",
       "       -0.47038  , -1.2953   , -0.46236  ,  0.44467  ,  0.13337  ,\n",
       "        0.88762  , -0.26494  ,  0.080676 , -0.20625  , -0.51232  ,\n",
       "        0.31112  ,  0.062035 ,  0.30302  , -0.33344  , -0.20924  ,\n",
       "       -0.17348  , -0.43434  , -0.45743  , -0.077803 , -0.33248  ,\n",
       "       -0.078633 ,  0.82182  ,  0.082088 , -0.68795  ,  0.30266  ],\n",
       "      dtype=float32)"
      ]
     },
     "execution_count": 70,
     "metadata": {},
     "output_type": "execute_result"
    }
   ],
   "source": [
    "# Lets see vectors of few words, all words should be in lowercase\n",
    "glove_model.get_vector(\"king\")"
   ]
  },
  {
   "cell_type": "code",
   "execution_count": 72,
   "metadata": {},
   "outputs": [
    {
     "data": {
      "text/plain": [
       "[('offices', 0.7270073294639587),\n",
       " ('headquarters', 0.5834001302719116),\n",
       " ('administration', 0.5706813335418701),\n",
       " ('department', 0.5504103899002075),\n",
       " ('government', 0.5341647267341614),\n",
       " ('building', 0.5243759155273438),\n",
       " ('house', 0.5168567895889282),\n",
       " ('official', 0.512373685836792),\n",
       " ('agency', 0.499081552028656),\n",
       " ('officials', 0.4982209801673889)]"
      ]
     },
     "execution_count": 72,
     "metadata": {},
     "output_type": "execute_result"
    }
   ],
   "source": [
    "# Getting simillar word from vector space\n",
    "glove_model.similar_by_word(\"office\")"
   ]
  },
  {
   "cell_type": "markdown",
   "metadata": {},
   "source": [
    "### Sentence to Vector"
   ]
  },
  {
   "cell_type": "code",
   "execution_count": 96,
   "metadata": {},
   "outputs": [],
   "source": [
    "sentence_1 = \"I want to buy a Shirt\"\n",
    "sentence_2 = 'Lets purchase Sandals'\n",
    "sentence_3 = 'I want to go US'\n",
    "sentence_4 = 'Lets travel to Germany'"
   ]
  },
  {
   "cell_type": "code",
   "execution_count": 99,
   "metadata": {},
   "outputs": [
    {
     "data": {
      "text/plain": [
       "array([-1.40374497e-01,  1.41578345e-02, -2.90735334e-01, -1.79177001e-01,\n",
       "       -8.35621655e-02, -1.26622736e-01, -6.88918447e-03, -5.38648367e-02,\n",
       "        1.32374331e-01, -1.61352336e+00,  9.17003378e-02, -2.78061479e-01,\n",
       "        6.13557212e-02,  1.71973631e-01,  3.01549975e-02,  9.00465176e-02,\n",
       "       -1.41399905e-01, -9.85701755e-03,  2.60451715e-02, -2.32639983e-01,\n",
       "       -6.51486740e-02,  1.73771665e-01,  1.92217484e-01,  3.70683372e-02,\n",
       "       -4.03613329e-01, -3.36246639e-01,  4.15169708e-02,  5.54849952e-02,\n",
       "        9.46778283e-02, -1.35774836e-01, -8.92418325e-02,  1.21702336e-01,\n",
       "       -1.37903333e-01, -5.61618321e-02, -1.19466662e+00,  3.10603350e-01,\n",
       "       -1.41031504e-01,  2.93279290e-02, -9.81973037e-02,  1.82833429e-02,\n",
       "       -1.40799955e-03, -3.21630508e-01, -1.93498302e-02,  3.60874981e-02,\n",
       "        1.85119510e-01, -7.44343325e-02,  3.18585008e-01, -1.47339165e-01,\n",
       "       -1.80896483e-02, -5.20383306e-02,  3.77085060e-02, -2.76311010e-01,\n",
       "        5.80017269e-03, -2.12229848e-01, -1.25458345e-01,  2.37596467e-01,\n",
       "       -5.30409999e-02,  1.76233336e-01,  6.55271634e-02, -1.23434998e-01,\n",
       "        1.26312003e-01, -7.40880072e-02,  1.51349902e-02,  1.15388818e-01,\n",
       "       -4.60293330e-02, -2.71389663e-01,  7.22033391e-03, -8.11920390e-02,\n",
       "        1.95979476e-01, -3.92444991e-02,  2.25888833e-01,  1.19665004e-01,\n",
       "       -7.01832538e-03,  2.85296679e-01,  1.25726685e-01, -9.29915011e-02,\n",
       "       -9.76509973e-02,  1.60642311e-01, -1.62542000e-01, -2.61008680e-01,\n",
       "        1.65801663e-02,  1.49133326e-02,  1.34271339e-01, -2.38936663e-01,\n",
       "        1.12402342e-01,  2.78444976e-01, -2.86056340e-01,  4.18789625e-01,\n",
       "       -1.28932998e-01,  7.72572085e-02, -2.24338174e-01,  1.51285321e-01,\n",
       "       -2.39318326e-01, -3.46825033e-01,  1.79429770e-01,  1.25958160e-01,\n",
       "       -1.34345010e-01,  2.24501658e-02, -6.02683313e-02, -2.06969664e-01,\n",
       "       -5.33312559e-05, -1.10482492e-01, -3.32908332e-01,  4.56633186e-03,\n",
       "       -1.78929329e-01, -1.58441644e-02,  2.44371161e-01,  6.79659992e-02,\n",
       "       -1.27531782e-01,  1.45881400e-01, -1.35536000e-01, -2.69383248e-02,\n",
       "       -1.00609504e-01, -3.64096522e-01,  2.13469997e-01,  1.64675996e-01,\n",
       "       -8.75478387e-02,  1.09442174e-01,  3.00728172e-01, -2.88916022e-01,\n",
       "        2.12963317e-02,  2.39253361e-02,  3.93398017e-01,  2.10306332e-01,\n",
       "       -7.85538331e-02, -1.10688247e-01,  3.76636654e-01,  2.30494156e-01,\n",
       "        4.48765494e-02, -5.81549704e-02,  2.74913490e-01, -8.76331702e-02,\n",
       "       -6.40052930e-02,  3.26551460e-02,  1.26445010e-01,  2.37861678e-01,\n",
       "       -9.57283899e-02, -4.93759960e-02,  7.83961639e-02,  1.55135989e-01,\n",
       "       -2.49827892e-04,  8.95458162e-02,  2.79323310e-01,  1.77240327e-01,\n",
       "       -5.33401489e-01,  1.04094215e-01, -2.12869480e-01,  4.46223319e-02,\n",
       "       -2.62683425e-02,  8.48346651e-02, -1.29141197e-01,  9.03663337e-02,\n",
       "        2.58680016e-01, -2.58363336e-01,  1.65696010e-01, -9.50583816e-03,\n",
       "       -1.39243841e-01, -2.15076506e-01,  8.90676677e-02, -9.86167789e-03,\n",
       "        1.04804181e-01, -2.46619344e-01, -1.42165333e-01,  3.11980005e-02,\n",
       "        4.07963358e-02, -3.63071710e-02,  4.10600007e-03,  3.78368497e-01,\n",
       "        1.16388999e-01,  6.24009967e-02, -1.36116341e-01, -8.02016538e-03,\n",
       "       -6.52043343e-01,  6.31083474e-02, -1.19885832e-01, -1.85797825e-01,\n",
       "       -1.79597333e-01,  3.13412428e-01,  1.94044992e-01,  3.25607151e-01,\n",
       "        2.86420044e-02, -1.73289999e-02,  2.30722845e-01,  6.39450038e-03,\n",
       "       -4.23753373e-02, -1.21070169e-01, -4.58579957e-02,  5.25735021e-01,\n",
       "        2.57863313e-01,  1.79741338e-01,  9.71833896e-03,  1.88030347e-01,\n",
       "        9.93929431e-02,  8.08926597e-02,  1.13502324e-01, -2.73418814e-01,\n",
       "       -1.48499504e-01,  1.52141647e-02,  5.93699999e-02, -1.15227841e-01,\n",
       "        1.14803493e+00,  4.67936657e-02,  1.72302172e-01,  2.11435005e-01,\n",
       "        9.29171517e-02, -3.01131699e-02,  8.40303302e-02,  3.05633843e-01,\n",
       "       -1.91369489e-01, -1.56819835e-01, -2.26170182e-01, -2.25371659e-01,\n",
       "        6.40667463e-03,  2.41452828e-01, -1.59456164e-01,  1.85789511e-01,\n",
       "        1.33270338e-01,  3.89508419e-02, -4.07074988e-02,  1.23919003e-01,\n",
       "        3.80624801e-01,  4.40975539e-02,  9.10433102e-03,  1.03706665e-01,\n",
       "       -1.91083346e-02, -7.47765005e-02,  1.93295002e-01,  1.30349845e-01,\n",
       "        3.70040052e-02, -1.44497052e-01,  1.32567510e-01,  1.43910840e-01,\n",
       "        5.00783324e-02, -2.20559970e-01,  2.55378336e-01,  1.71907663e-01,\n",
       "       -4.21243198e-02,  6.20553158e-02, -8.45200047e-02,  3.79031748e-02,\n",
       "        1.79855511e-01, -1.67947989e-02,  5.91268539e-02,  6.64271638e-02,\n",
       "       -3.67771178e-01, -2.61285063e-02,  1.95944324e-01, -3.19914669e-01,\n",
       "       -5.08134514e-02, -3.31570506e-01,  1.41789988e-01, -1.50092825e-01,\n",
       "       -9.44841728e-02,  8.52295086e-02,  5.43848336e-01,  1.57742664e-01,\n",
       "       -1.81662500e-01,  5.23371696e-02,  1.74635842e-01, -1.49522349e-01,\n",
       "        1.99703336e-01, -1.35632664e-01,  1.03819169e-01,  8.50043297e-02,\n",
       "       -9.56531540e-02, -2.26486679e-02, -8.77758265e-02,  8.76021609e-02,\n",
       "        7.62421414e-02,  1.35470167e-01,  6.53416663e-02, -2.24403158e-01,\n",
       "        2.31843665e-01, -2.14138508e-01, -1.12956174e-01, -1.71470508e-01,\n",
       "       -2.09084988e+00, -1.03037469e-01,  3.11184317e-01, -6.99483380e-02,\n",
       "        3.05666625e-02, -7.09883869e-02,  4.18571644e-02, -4.54753339e-02,\n",
       "       -1.92424297e-01,  1.15946829e-01,  2.37683207e-02,  7.39235505e-02,\n",
       "       -8.21556672e-02, -1.15942657e-01, -7.48704150e-02, -4.14921641e-01,\n",
       "       -6.64550141e-02,  1.46283358e-02,  2.21956506e-01, -2.85955518e-01,\n",
       "        2.86825836e-01, -1.08893842e-01,  8.83049965e-02,  1.81689858e-01],\n",
       "      dtype=float32)"
      ]
     },
     "execution_count": 99,
     "metadata": {},
     "output_type": "execute_result"
    }
   ],
   "source": [
    "# Sentence vector using mean\n",
    "\n",
    "np.mean([glove_model.get_vector(w) for w in sentence_1.lower().split()],axis=0)"
   ]
  },
  {
   "cell_type": "code",
   "execution_count": 100,
   "metadata": {},
   "outputs": [
    {
     "name": "stdout",
     "output_type": "stream",
     "text": [
      "Similarities :\n",
      "\n",
      "1:  I want to buy a Shirt \n",
      "2:  Lets purchase Sandals \n",
      "Cosine:  [[0.5360273]]\n",
      "\n",
      "1:  I want to buy a Shirt \n",
      "2:  I want to go US \n",
      "Cosine:  [[0.88368845]]\n",
      "\n",
      "1:  I want to buy a Shirt \n",
      "2:  Lets travel to Germany \n",
      "Cosine:  [[0.6558078]]\n",
      "\n",
      "1:  Lets purchase Sandals \n",
      "2:  I want to go US \n",
      "Cosine:  [[0.3950703]]\n",
      "\n",
      "1:  Lets purchase Sandals \n",
      "2:  Lets travel to Germany \n",
      "Cosine:  [[0.4297342]]\n",
      "\n",
      "1:  I want to go US \n",
      "2:  Lets travel to Germany \n",
      "Cosine:  [[0.7169389]]\n"
     ]
    }
   ],
   "source": [
    "# Cosine similarity between different pair of sentences\n",
    "\n",
    "sent_vector_1 = np.mean([glove_model.get_vector(w) for w in sentence_1.lower().split()],axis=0)\n",
    "sent_vector_2 = np.mean([glove_model.get_vector(w) for w in sentence_2.lower().split()],axis=0)\n",
    "sent_vector_3 = np.mean([glove_model.get_vector(w) for w in sentence_3.lower().split()],axis=0)\n",
    "sent_vector_4 = np.mean([glove_model.get_vector(w) for w in sentence_4.lower().split()],axis=0)\n",
    "\n",
    "print(\"Similarities :\")\n",
    "print(\"\\n1: \",sentence_1, \"\\n2: \", sentence_2, \"\\nCosine: \", cosine_similarity([sent_vector_1],[sent_vector_2]))\n",
    "\n",
    "print(\"\\n1: \",sentence_1, \"\\n2: \", sentence_3, \"\\nCosine: \", cosine_similarity([sent_vector_1],[sent_vector_3]))\n",
    "\n",
    "print(\"\\n1: \",sentence_1, \"\\n2: \", sentence_4, \"\\nCosine: \", cosine_similarity([sent_vector_1],[sent_vector_4]))\n",
    "\n",
    "print(\"\\n1: \",sentence_2, \"\\n2: \", sentence_3, \"\\nCosine: \", cosine_similarity([sent_vector_2],[sent_vector_3]))\n",
    "\n",
    "print(\"\\n1: \",sentence_2, \"\\n2: \", sentence_4, \"\\nCosine: \", cosine_similarity([sent_vector_2],[sent_vector_4]))\n",
    "\n",
    "print(\"\\n1: \",sentence_3, \"\\n2: \", sentence_4, \"\\nCosine: \", cosine_similarity([sent_vector_3],[sent_vector_4]))"
   ]
  },
  {
   "cell_type": "markdown",
   "metadata": {},
   "source": [
    "##### Refrence : https://nlp.stanford.edu/projects/glove/"
   ]
  }
 ],
 "metadata": {
  "kernelspec": {
   "display_name": "Python 3",
   "language": "python",
   "name": "python3"
  },
  "language_info": {
   "codemirror_mode": {
    "name": "ipython",
    "version": 3
   },
   "file_extension": ".py",
   "mimetype": "text/x-python",
   "name": "python",
   "nbconvert_exporter": "python",
   "pygments_lexer": "ipython3",
   "version": "3.7.3"
  }
 },
 "nbformat": 4,
 "nbformat_minor": 2
}
