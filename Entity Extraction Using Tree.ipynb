{
 "cells": [
  {
   "cell_type": "code",
   "execution_count": 1,
   "metadata": {},
   "outputs": [],
   "source": [
    "import pandas as pd\n",
    "import spacy\n",
    "import numpy as np\n",
    "nlp=spacy.load(\"en_core_web_md\")"
   ]
  },
  {
   "cell_type": "code",
   "execution_count": 2,
   "metadata": {},
   "outputs": [],
   "source": [
    "english_words = pd.read_pickle(\"../Resources/Data/english_word.pkl\")"
   ]
  },
  {
   "cell_type": "code",
   "execution_count": 3,
   "metadata": {},
   "outputs": [],
   "source": [
    "word_list = english_words['word'].to_list()\n",
    "index_2_word_dict = english_words['word'].to_dict()\n",
    "word_2_index_dict = {v:k for k,v in index_2_word_dict.items()}"
   ]
  },
  {
   "cell_type": "code",
   "execution_count": 4,
   "metadata": {},
   "outputs": [],
   "source": [
    "word_list = ['blank_word'] + word_list\n",
    "index_2_word_dict[-1] = 'blank_word'\n",
    "word_2_index_dict['blank_word'] = -1"
   ]
  },
  {
   "cell_type": "code",
   "execution_count": 5,
   "metadata": {},
   "outputs": [],
   "source": [
    "travel_df = pd.read_excel(\"../Resources/Data/travel.xlsx\", index_col='sr')"
   ]
  },
  {
   "cell_type": "code",
   "execution_count": 6,
   "metadata": {},
   "outputs": [
    {
     "data": {
      "text/html": [
       "<div>\n",
       "<style scoped>\n",
       "    .dataframe tbody tr th:only-of-type {\n",
       "        vertical-align: middle;\n",
       "    }\n",
       "\n",
       "    .dataframe tbody tr th {\n",
       "        vertical-align: top;\n",
       "    }\n",
       "\n",
       "    .dataframe thead th {\n",
       "        text-align: right;\n",
       "    }\n",
       "</style>\n",
       "<table border=\"1\" class=\"dataframe\">\n",
       "  <thead>\n",
       "    <tr style=\"text-align: right;\">\n",
       "      <th></th>\n",
       "      <th>service</th>\n",
       "      <th>intent</th>\n",
       "      <th>text</th>\n",
       "      <th>source</th>\n",
       "      <th>destination</th>\n",
       "    </tr>\n",
       "    <tr>\n",
       "      <th>sr</th>\n",
       "      <th></th>\n",
       "      <th></th>\n",
       "      <th></th>\n",
       "      <th></th>\n",
       "      <th></th>\n",
       "    </tr>\n",
       "  </thead>\n",
       "  <tbody>\n",
       "    <tr>\n",
       "      <th>19</th>\n",
       "      <td>hrva_travel</td>\n",
       "      <td>travel</td>\n",
       "      <td>i want to travel from kolkata</td>\n",
       "      <td>kolkata</td>\n",
       "      <td>NaN</td>\n",
       "    </tr>\n",
       "    <tr>\n",
       "      <th>20</th>\n",
       "      <td>hrva_travel</td>\n",
       "      <td>travel</td>\n",
       "      <td>i want to reach goa</td>\n",
       "      <td>NaN</td>\n",
       "      <td>goa</td>\n",
       "    </tr>\n",
       "  </tbody>\n",
       "</table>\n",
       "</div>"
      ],
      "text/plain": [
       "        service  intent                           text   source destination\n",
       "sr                                                                         \n",
       "19  hrva_travel  travel  i want to travel from kolkata  kolkata         NaN\n",
       "20  hrva_travel  travel            i want to reach goa      NaN         goa"
      ]
     },
     "execution_count": 6,
     "metadata": {},
     "output_type": "execute_result"
    }
   ],
   "source": [
    "travel_df.tail(2)"
   ]
  },
  {
   "cell_type": "code",
   "execution_count": 7,
   "metadata": {},
   "outputs": [
    {
     "data": {
      "text/plain": [
       "['source', 'destination']"
      ]
     },
     "execution_count": 7,
     "metadata": {},
     "output_type": "execute_result"
    }
   ],
   "source": [
    "labels = [col for col in list(travel_df.columns) if col not in ['service','intent','text']]\n",
    "labels"
   ]
  },
  {
   "cell_type": "code",
   "execution_count": 8,
   "metadata": {},
   "outputs": [
    {
     "data": {
      "text/plain": [
       "['travel', 'i', 'PRP', 'blank_word', 'blank_word', 'blank_word', 'blank_word']"
      ]
     },
     "execution_count": 8,
     "metadata": {},
     "output_type": "execute_result"
    }
   ],
   "source": [
    "transformed_df = []\n",
    "for index, each_row in travel_df.iterrows():\n",
    "    doc = nlp(each_row['text'])\n",
    "    text_tag = [[each_row['intent'], doc[0].text, doc[0].tag_, \"blank_word\", \"blank_word\"]]\n",
    "    text_tag += [[each_row['intent'], doc[i].text, doc[i].tag_, doc[i-1].text, doc[i-1].tag_] for i in range(len(doc)) if i>0]\n",
    "    \n",
    "    labels = [col for col in list(travel_df.columns) if col not in ['service','intent','text']]\n",
    "    \n",
    "    \n",
    "    for each in text_tag:\n",
    "        lab_tag = ['blank_word' for i in range(len(labels))]\n",
    "        for i, lab in enumerate(labels):\n",
    "#             print(lab)\n",
    "            if each[1] in [str(each_row[lab])]:\n",
    "                lab_tag[i] = each[1]\n",
    "        each += lab_tag\n",
    "    transformed_df += text_tag\n",
    "transformed_df[0]"
   ]
  },
  {
   "cell_type": "code",
   "execution_count": 9,
   "metadata": {},
   "outputs": [],
   "source": [
    "df = pd.DataFrame(transformed_df, columns=['intent', 'word', 'w_pos', \"p_word\", \"p_w_word\"]+labels)"
   ]
  },
  {
   "cell_type": "code",
   "execution_count": 22,
   "metadata": {},
   "outputs": [],
   "source": [
    "pos_list = list(df['w_pos'].unique())\n",
    "intent_list = list(df['intent'].unique())"
   ]
  },
  {
   "cell_type": "code",
   "execution_count": 24,
   "metadata": {},
   "outputs": [],
   "source": [
    "pos_list = [\"p_\"+i for i in pos_list]\n",
    "intent_list = [\"i_\"+i for i in intent_list]"
   ]
  },
  {
   "cell_type": "code",
   "execution_count": 27,
   "metadata": {},
   "outputs": [],
   "source": [
    "total_vocab = word_list+pos_list+intent_list"
   ]
  },
  {
   "cell_type": "code",
   "execution_count": 28,
   "metadata": {},
   "outputs": [
    {
     "data": {
      "text/plain": [
       "370118"
      ]
     },
     "execution_count": 28,
     "metadata": {},
     "output_type": "execute_result"
    }
   ],
   "source": [
    "len(total_vocab)"
   ]
  },
  {
   "cell_type": "code",
   "execution_count": 33,
   "metadata": {},
   "outputs": [],
   "source": [
    "vocab_dict = {v:i for i,v in enumerate(total_vocab)}\n",
    "r_vocab_dict = {v:i for i,v in vocab_dict.items()}"
   ]
  },
  {
   "cell_type": "code",
   "execution_count": 35,
   "metadata": {},
   "outputs": [
    {
     "ename": "TypeError",
     "evalue": "unhashable type: 'slice'",
     "output_type": "error",
     "traceback": [
      "\u001b[1;31m---------------------------------------------------------------------------\u001b[0m",
      "\u001b[1;31mTypeError\u001b[0m                                 Traceback (most recent call last)",
      "\u001b[1;32m<ipython-input-35-9c4df26f310f>\u001b[0m in \u001b[0;36m<module>\u001b[1;34m\u001b[0m\n\u001b[1;32m----> 1\u001b[1;33m \u001b[0mr_vocab_dict\u001b[0m\u001b[1;33m[\u001b[0m\u001b[1;33m-\u001b[0m\u001b[1;36m10\u001b[0m\u001b[1;33m:\u001b[0m\u001b[1;33m]\u001b[0m\u001b[1;33m\u001b[0m\u001b[1;33m\u001b[0m\u001b[0m\n\u001b[0m",
      "\u001b[1;31mTypeError\u001b[0m: unhashable type: 'slice'"
     ]
    }
   ],
   "source": [
    "transformed_df = []\n",
    "for index, each_row in df.iterrows():\n",
    "    doc = nlp(each_row['text'])\n",
    "    text_tag = [[each_row['intent'], doc[0].text, doc[0].tag_, \"blank_word\", \"blank_word\"]]\n",
    "    text_tag += [[each_row['intent'], doc[i].text, doc[i].tag_, doc[i-1].text, doc[i-1].tag_] for i in range(len(doc)) if i>0]\n",
    "    \n",
    "    labels = [col for col in list(travel_df.columns) if col not in ['service','intent','text']]\n",
    "    \n",
    "    \n",
    "    for each in text_tag:\n",
    "        lab_tag = ['blank_word' for i in range(len(labels))]\n",
    "        for i, lab in enumerate(labels):\n",
    "#             print(lab)\n",
    "            if each[1] in [str(each_row[lab])]:\n",
    "                lab_tag[i] = each[1]\n",
    "        each += lab_tag\n",
    "    transformed_df += text_tag\n",
    "transformed_df[0]"
   ]
  },
  {
   "cell_type": "code",
   "execution_count": null,
   "metadata": {},
   "outputs": [],
   "source": []
  }
 ],
 "metadata": {
  "kernelspec": {
   "display_name": "Python 3",
   "language": "python",
   "name": "python3"
  },
  "language_info": {
   "codemirror_mode": {
    "name": "ipython",
    "version": 3
   },
   "file_extension": ".py",
   "mimetype": "text/x-python",
   "name": "python",
   "nbconvert_exporter": "python",
   "pygments_lexer": "ipython3",
   "version": "3.7.3"
  }
 },
 "nbformat": 4,
 "nbformat_minor": 2
}
