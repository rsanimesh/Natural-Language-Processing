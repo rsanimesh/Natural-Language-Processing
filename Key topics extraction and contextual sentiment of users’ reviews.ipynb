{
 "cells": [
  {
   "cell_type": "markdown",
   "metadata": {},
   "source": [
    "# Key topics extraction and contextual sentiment of users’ reviews\n",
    "\n",
    "In this notebook i tried to impliment a **Key topics extraction and contextual sentiment** as disscussed by Dhruv Pathak in his [blog.](https://tech.goibibo.com/key-topics-extraction-and-contextual-sentiment-of-users-reviews-20e63c0fd7ca)"
   ]
  },
  {
   "cell_type": "markdown",
   "metadata": {},
   "source": [
    "## Setup\n",
    "\n",
    "### Required python libraries\n",
    "\n",
    "* Spacy\n",
    "* Scikit-learn\n",
    "* Difflib\n",
    "* Jellyfish\n",
    "* Regex\n",
    "* Nltk\n",
    "\n",
    "### Various NLP concepts that are used in this notebookm\n",
    "\n",
    "* __Stemming and Lemmatization__, to work with root forms of multiple variations.\n",
    "* __Fuzzy matching__, for approximate phrase matches and paraphrase detection.\n",
    "* __Tokenization, retokenization, part of speech (POS) tagging__ to identify the concepts in the content\n",
    "* __Dependency Parsing__ to find relations between the concepts, and use that wisdom."
   ]
  },
  {
   "cell_type": "markdown",
   "metadata": {},
   "source": [
    "## Import the relevant packages"
   ]
  },
  {
   "cell_type": "code",
   "execution_count": 6,
   "metadata": {},
   "outputs": [],
   "source": [
    "import numpy as np\n",
    "import pandas as pd\n",
    "import nltk\n",
    "import re\n",
    "import spacy"
   ]
  },
  {
   "cell_type": "markdown",
   "metadata": {},
   "source": [
    "## Data\n",
    "\n",
    "That's where we load and preprocess our data."
   ]
  },
  {
   "cell_type": "code",
   "execution_count": null,
   "metadata": {},
   "outputs": [],
   "source": [
    "data_df = pd.read_csv(\"D:/\")"
   ]
  }
 ],
 "metadata": {
  "kernelspec": {
   "display_name": "Python 3",
   "language": "python",
   "name": "python3"
  },
  "language_info": {
   "codemirror_mode": {
    "name": "ipython",
    "version": 3
   },
   "file_extension": ".py",
   "mimetype": "text/x-python",
   "name": "python",
   "nbconvert_exporter": "python",
   "pygments_lexer": "ipython3",
   "version": "3.7.3"
  }
 },
 "nbformat": 4,
 "nbformat_minor": 2
}
