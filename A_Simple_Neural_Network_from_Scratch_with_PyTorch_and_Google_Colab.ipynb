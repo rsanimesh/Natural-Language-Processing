{
  "nbformat": 4,
  "nbformat_minor": 0,
  "metadata": {
    "colab": {
      "name": "A Simple Neural Network from Scratch with PyTorch and Google Colab.ipynb",
      "provenance": [],
      "authorship_tag": "ABX9TyPvbsXXTsSJTZDtPxmpEfiL",
      "include_colab_link": true
    },
    "kernelspec": {
      "name": "python3",
      "display_name": "Python 3"
    }
  },
  "cells": [
    {
      "cell_type": "markdown",
      "metadata": {
        "id": "view-in-github",
        "colab_type": "text"
      },
      "source": [
        "<a href=\"https://colab.research.google.com/github/rsanimesh/Natural-Language-Processing/blob/master/A_Simple_Neural_Network_from_Scratch_with_PyTorch_and_Google_Colab.ipynb\" target=\"_parent\"><img src=\"https://colab.research.google.com/assets/colab-badge.svg\" alt=\"Open In Colab\"/></a>"
      ]
    },
    {
      "cell_type": "markdown",
      "metadata": {
        "id": "1fNhHP7HMpvj",
        "colab_type": "text"
      },
      "source": [
        "# A Simple Neural Network from Scratch with PyTorch and Google Colab\n",
        "\n",
        "> \"In this tutorial we implement a simple neural network from scratch using PyTorch.\"\n",
        "\n",
        "The torch module provides all the necessary tensor operators you will need to implement your first neural network from scratch in PyTorch.\n",
        "\n",
        "In PyTorch everything is a Tensor, so this is the first thing you will need to get used to. Let's import the libraries we will need for this tutorial."
      ]
    },
    {
      "cell_type": "code",
      "metadata": {
        "id": "LWgfzMZyok67",
        "colab_type": "code",
        "colab": {}
      },
      "source": [
        "import torch\n",
        "import torch.nn as nn"
      ],
      "execution_count": 0,
      "outputs": []
    },
    {
      "cell_type": "code",
      "metadata": {
        "id": "sDXUdoh1OEMh",
        "colab_type": "code",
        "colab": {}
      },
      "source": [
        ""
      ],
      "execution_count": 0,
      "outputs": []
    }
  ]
}